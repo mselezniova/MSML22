{
 "cells": [
  {
   "cell_type": "markdown",
   "metadata": {},
   "source": [
    "# First steps with `numpy`\n",
    "\n",
    "Python by itself is a rather slow language. Taking the performance of the compiled C language as unit one, you can get an idea of its performance, e.g., from the [benchmark game](https://benchmarksgame-team.pages.debian.net/benchmarksgame/fastest/python3-gcc.html). This is partly due to the fact that Python is interpreted and not compiled. But even among the interpreter languages, Python is slow. \n",
    "\n",
    "Then why is Python so popular in data science and how can we implement computation-heavy algorithms efficiently in Python? The second question can be answered more easily that the first. Python has a light-weight interface to C so that computation-heavy routines can simply be written in C and then used conveniently from Python. The first question probably has many answers, two of which certainly are that Python has:\n",
    "* an extraordinary beautiful syntax allowing to quickly lay out the outer loops of algorithms;\n",
    "* a large ecosystems of additional packages either to do the heavy lifting in the inner loops, often exploiting multi CPU/GPU processing without much overhead, or help to obtain, pre-process, inspect, and visualize data.\n",
    "\n",
    "In our course, we want to focus on the implementation of the algorithms and not on the performance. Nevertheless, we will need some basic performance in numerical functions and operations. For this we will use the standard `numpy` package, which allows to do linear algebra efficiently in Python. "
   ]
  },
  {
   "cell_type": "code",
   "execution_count": 1,
   "metadata": {},
   "outputs": [],
   "source": [
    "import numpy as np"
   ]
  },
  {
   "cell_type": "markdown",
   "metadata": {},
   "source": [
    "The basic object of `numpy` is the Numpy Array that can be created conveniently using a Python `list`."
   ]
  },
  {
   "cell_type": "code",
   "execution_count": 3,
   "metadata": {},
   "outputs": [],
   "source": [
    "M = np.array([[1, 2], [3, 4], [5, 6]])"
   ]
  },
  {
   "cell_type": "code",
   "execution_count": 4,
   "metadata": {},
   "outputs": [
    {
     "data": {
      "text/plain": [
       "numpy.ndarray"
      ]
     },
     "execution_count": 4,
     "metadata": {},
     "output_type": "execute_result"
    }
   ],
   "source": [
    "type(M)"
   ]
  },
  {
   "cell_type": "code",
   "execution_count": 5,
   "metadata": {},
   "outputs": [
    {
     "name": "stdout",
     "output_type": "stream",
     "text": [
      "[[1 2]\n",
      " [3 4]\n",
      " [5 6]]\n"
     ]
    }
   ],
   "source": [
    "print(M)"
   ]
  },
  {
   "cell_type": "code",
   "execution_count": 6,
   "metadata": {},
   "outputs": [
    {
     "data": {
      "text/plain": [
       "(3, 2)"
      ]
     },
     "execution_count": 6,
     "metadata": {},
     "output_type": "execute_result"
    }
   ],
   "source": [
    "M.shape"
   ]
  },
  {
   "cell_type": "markdown",
   "metadata": {},
   "source": [
    "This is the numerical equivalent of a $\\mathbb R^{3\\times 2}$ matrix. But we can also create tensors of any dimension, here creating a $\\mathbb R^{4\\times 3\\times 2}$ using our previously defined matrix $M$ and several operations and functions that operate on the individual coefficients (which is Numpy's way of allowing to vectorize operations and functions efficiently on even large arrays without the need of invoking any slow Python loop):"
   ]
  },
  {
   "cell_type": "code",
   "execution_count": 8,
   "metadata": {},
   "outputs": [
    {
     "name": "stdout",
     "output_type": "stream",
     "text": [
      "[[[ 1.00000000e+00  2.00000000e+00]\n",
      "  [ 3.00000000e+00  4.00000000e+00]\n",
      "  [ 5.00000000e+00  6.00000000e+00]]\n",
      "\n",
      " [[ 2.00000000e+00  4.00000000e+00]\n",
      "  [ 6.00000000e+00  8.00000000e+00]\n",
      "  [ 1.00000000e+01  1.20000000e+01]]\n",
      "\n",
      " [[ 2.71828183e+00  7.38905610e+00]\n",
      "  [ 2.00855369e+01  5.45981500e+01]\n",
      "  [ 1.48413159e+02  4.03428793e+02]]\n",
      "\n",
      " [[-7.56802495e-01  9.89358247e-01]\n",
      "  [-5.36572918e-01 -2.87903317e-01]\n",
      "  [ 9.12945251e-01 -9.05578362e-01]]]\n",
      "The tensor T has the dimensions:  (4, 3, 2)\n"
     ]
    }
   ],
   "source": [
    "T = np.array([M, 2*M, np.exp(M), np.sin(4*M)])\n",
    "print(T)\n",
    "print('The tensor T has the dimensions: ', T.shape)"
   ]
  },
  {
   "cell_type": "markdown",
   "metadata": {},
   "source": [
    "Such Numpy Arrays can be created using different routines:"
   ]
  },
  {
   "cell_type": "code",
   "execution_count": 9,
   "metadata": {},
   "outputs": [
    {
     "name": "stdout",
     "output_type": "stream",
     "text": [
      "[[0. 0.]\n",
      " [0. 0.]\n",
      " [0. 0.]]\n"
     ]
    }
   ],
   "source": [
    "Z = np.zeros((3,2))\n",
    "print(Z)"
   ]
  },
  {
   "cell_type": "code",
   "execution_count": 10,
   "metadata": {},
   "outputs": [
    {
     "name": "stdout",
     "output_type": "stream",
     "text": [
      "[[1. 1.]\n",
      " [1. 1.]\n",
      " [1. 1.]]\n"
     ]
    }
   ],
   "source": [
    "O = np.ones((3,2))\n",
    "print(O)"
   ]
  },
  {
   "cell_type": "code",
   "execution_count": 11,
   "metadata": {},
   "outputs": [
    {
     "name": "stdout",
     "output_type": "stream",
     "text": [
      "[[1 0 0 0]\n",
      " [0 2 0 0]\n",
      " [0 0 3 0]\n",
      " [0 0 0 4]]\n"
     ]
    }
   ],
   "source": [
    "D = np.diag((1,2,3,4))\n",
    "print(D)"
   ]
  },
  {
   "cell_type": "markdown",
   "metadata": {},
   "source": [
    "Ranges:"
   ]
  },
  {
   "cell_type": "code",
   "execution_count": 12,
   "metadata": {},
   "outputs": [
    {
     "name": "stdout",
     "output_type": "stream",
     "text": [
      "[ 7  9 11 13 15 17 19 21]\n"
     ]
    }
   ],
   "source": [
    "R = np.arange(7, 23, 2)\n",
    "print(R)"
   ]
  },
  {
   "cell_type": "code",
   "execution_count": 13,
   "metadata": {},
   "outputs": [
    {
     "name": "stdout",
     "output_type": "stream",
     "text": [
      "[0.         0.34906585 0.6981317  1.04719755 1.3962634  1.74532925\n",
      " 2.0943951  2.44346095 2.7925268  3.14159265]\n"
     ]
    }
   ],
   "source": [
    "L = np.linspace(0, np.pi, 10)\n",
    "print(L)"
   ]
  },
  {
   "cell_type": "markdown",
   "metadata": {},
   "source": [
    "Random numbers uniformly distributed:"
   ]
  },
  {
   "cell_type": "code",
   "execution_count": 14,
   "metadata": {},
   "outputs": [
    {
     "name": "stdout",
     "output_type": "stream",
     "text": [
      "[[0.78012854 0.99363996]\n",
      " [0.95742196 0.75055996]\n",
      " [0.15176901 0.78186039]]\n"
     ]
    }
   ],
   "source": [
    "A = np.random.rand(3, 2)\n",
    "print(A)"
   ]
  },
  {
   "cell_type": "markdown",
   "metadata": {},
   "source": [
    "or according the normal distribution:"
   ]
  },
  {
   "cell_type": "code",
   "execution_count": 18,
   "metadata": {},
   "outputs": [
    {
     "name": "stdout",
     "output_type": "stream",
     "text": [
      "[[ 0.18462626  0.47807632]\n",
      " [-1.18175921  2.37674629]\n",
      " [ 0.90145998  0.22085449]]\n"
     ]
    }
   ],
   "source": [
    "B = np.random.normal(size=(3, 2))\n",
    "print(B)"
   ]
  },
  {
   "cell_type": "markdown",
   "metadata": {},
   "source": [
    "Arrays can be conveniently indexed keeping in mind that Numpy counts starting from 0:"
   ]
  },
  {
   "cell_type": "code",
   "execution_count": 20,
   "metadata": {},
   "outputs": [
    {
     "name": "stdout",
     "output_type": "stream",
     "text": [
      "The (1,2) coefficient of the matrix [[1 2]\n",
      " [3 4]\n",
      " [5 6]] equals 2\n"
     ]
    }
   ],
   "source": [
    "print(f'The (1,2) coefficient of the matrix {M} equals {M[0,1]}')"
   ]
  },
  {
   "cell_type": "markdown",
   "metadata": {},
   "source": [
    "and sliced as follows. For example, the sub-matrix containing the coefficients of the 1st column of 2nd and 3rd row are obtained by:"
   ]
  },
  {
   "cell_type": "code",
   "execution_count": 21,
   "metadata": {},
   "outputs": [
    {
     "name": "stdout",
     "output_type": "stream",
     "text": [
      "[3 5]\n"
     ]
    }
   ],
   "source": [
    "print(M[1:3,0])"
   ]
  },
  {
   "cell_type": "markdown",
   "metadata": {},
   "source": [
    "The sub-matrix of the coefficients of the entire 2nd and 3rd row are given by:"
   ]
  },
  {
   "cell_type": "code",
   "execution_count": 22,
   "metadata": {},
   "outputs": [
    {
     "name": "stdout",
     "output_type": "stream",
     "text": [
      "[[3 4]\n",
      " [5 6]]\n"
     ]
    }
   ],
   "source": [
    "print(M[1:3,:])"
   ]
  },
  {
   "cell_type": "markdown",
   "metadata": {},
   "source": [
    "Negative indices count backwards from the end. The second element is the second last row:"
   ]
  },
  {
   "cell_type": "code",
   "execution_count": 23,
   "metadata": {},
   "outputs": [
    {
     "name": "stdout",
     "output_type": "stream",
     "text": [
      "[3 4]\n"
     ]
    }
   ],
   "source": [
    "print(M[-2])"
   ]
  },
  {
   "cell_type": "markdown",
   "metadata": {},
   "source": [
    "and the last element of the second last row:"
   ]
  },
  {
   "cell_type": "code",
   "execution_count": 24,
   "metadata": {},
   "outputs": [
    {
     "name": "stdout",
     "output_type": "stream",
     "text": [
      "4\n"
     ]
    }
   ],
   "source": [
    "print(M[-2,-1])"
   ]
  },
  {
   "cell_type": "markdown",
   "metadata": {},
   "source": [
    "Numpy offers many quick manupulations such as reshaping, stacking, and appending:"
   ]
  },
  {
   "cell_type": "code",
   "execution_count": 19,
   "metadata": {},
   "outputs": [
    {
     "name": "stdout",
     "output_type": "stream",
     "text": [
      "[[1 2 3]\n",
      " [4 5 6]]\n"
     ]
    }
   ],
   "source": [
    "print(np.reshape(M, (2, 3)))"
   ]
  },
  {
   "cell_type": "code",
   "execution_count": 25,
   "metadata": {},
   "outputs": [
    {
     "name": "stdout",
     "output_type": "stream",
     "text": [
      "[[ 1  2  2  4]\n",
      " [ 3  4  6  8]\n",
      " [ 5  6 10 12]]\n"
     ]
    }
   ],
   "source": [
    "print(np.hstack((M, 2*M)))"
   ]
  },
  {
   "cell_type": "code",
   "execution_count": 26,
   "metadata": {},
   "outputs": [
    {
     "name": "stdout",
     "output_type": "stream",
     "text": [
      "[[ 1  2]\n",
      " [ 3  4]\n",
      " [ 5  6]\n",
      " [ 2  4]\n",
      " [ 6  8]\n",
      " [10 12]]\n"
     ]
    }
   ],
   "source": [
    "print(np.vstack((M, 2*M)))"
   ]
  },
  {
   "cell_type": "markdown",
   "metadata": {},
   "source": [
    "The same can be achieved by appending:"
   ]
  },
  {
   "cell_type": "code",
   "execution_count": 30,
   "metadata": {},
   "outputs": [
    {
     "name": "stdout",
     "output_type": "stream",
     "text": [
      "[[ 1  2]\n",
      " [ 3  4]\n",
      " [ 5  6]\n",
      " [ 2  4]\n",
      " [ 6  8]\n",
      " [10 12]]\n"
     ]
    }
   ],
   "source": [
    "print(np.append(M, 2*M, axis=0))"
   ]
  },
  {
   "cell_type": "markdown",
   "metadata": {},
   "source": [
    "Broadcasting mechanism in vectorized operations:"
   ]
  },
  {
   "cell_type": "code",
   "execution_count": 31,
   "metadata": {},
   "outputs": [
    {
     "name": "stdout",
     "output_type": "stream",
     "text": [
      "Multiplying\n",
      "\n",
      "[[1 2]\n",
      " [3 4]\n",
      " [5 6]]\n",
      "\n",
      "by\n",
      "\n",
      "[[7 8]]\n",
      "\n",
      "gives\n",
      "\n",
      "[[ 7 16]\n",
      " [21 32]\n",
      " [35 48]]\n"
     ]
    }
   ],
   "source": [
    "v = np.array([[7, 8]])\n",
    "print(f'Multiplying\\n\\n{M}\\n\\nby\\n\\n{v}\\n\\ngives\\n\\n{M * v}')"
   ]
  },
  {
   "cell_type": "markdown",
   "metadata": {},
   "source": [
    "because internally Numpy broadcasts the row vector $v$ to the matrix $\\begin{pmatrix} 7 & 8\\\\ 7 & 8\\\\ 7 & 8\\end{pmatrix}$ and then carries out the multiplication per coefficient. The broadcasting will be done automatically whenever the dimensions allow. In the next example, Numpy broadcasts automatically along the other axis:"
   ]
  },
  {
   "cell_type": "markdown",
   "metadata": {},
   "source": [
    "Note that $v$ is a 1x2 matrix or row vector. It can be transposed using:"
   ]
  },
  {
   "cell_type": "code",
   "execution_count": 32,
   "metadata": {},
   "outputs": [
    {
     "data": {
      "text/plain": [
       "array([[7],\n",
       "       [8]])"
      ]
     },
     "execution_count": 32,
     "metadata": {},
     "output_type": "execute_result"
    }
   ],
   "source": [
    "v.T"
   ]
  },
  {
   "cell_type": "code",
   "execution_count": 33,
   "metadata": {},
   "outputs": [
    {
     "name": "stdout",
     "output_type": "stream",
     "text": [
      "[[ 8  9]\n",
      " [11 12]\n",
      " [14 15]]\n"
     ]
    }
   ],
   "source": [
    "w = np.array([[7], [8], [9]])\n",
    "print(M + w)"
   ]
  },
  {
   "cell_type": "markdown",
   "metadata": {},
   "source": [
    "Matrix multiplication, contrary to coefficient-wise multiplication, can be carrying out as follows using the `@` operator:"
   ]
  },
  {
   "cell_type": "code",
   "execution_count": 34,
   "metadata": {},
   "outputs": [
    {
     "name": "stdout",
     "output_type": "stream",
     "text": [
      "[[23]\n",
      " [53]\n",
      " [83]]\n"
     ]
    }
   ],
   "source": [
    "print(M @ v.T)"
   ]
  },
  {
   "cell_type": "markdown",
   "metadata": {},
   "source": [
    "There are many functions to infer aggregated information about arrays such as:"
   ]
  },
  {
   "cell_type": "code",
   "execution_count": 35,
   "metadata": {},
   "outputs": [
    {
     "data": {
      "text/plain": [
       "14.0"
      ]
     },
     "execution_count": 35,
     "metadata": {},
     "output_type": "execute_result"
    }
   ],
   "source": [
    "np.mean(R)"
   ]
  },
  {
   "cell_type": "code",
   "execution_count": 36,
   "metadata": {},
   "outputs": [
    {
     "data": {
      "text/plain": [
       "112"
      ]
     },
     "execution_count": 36,
     "metadata": {},
     "output_type": "execute_result"
    }
   ],
   "source": [
    "np.sum(R)"
   ]
  },
  {
   "cell_type": "code",
   "execution_count": 37,
   "metadata": {},
   "outputs": [
    {
     "data": {
      "text/plain": [
       "21"
      ]
     },
     "execution_count": 37,
     "metadata": {},
     "output_type": "execute_result"
    }
   ],
   "source": [
    "np.max(R)"
   ]
  },
  {
   "cell_type": "code",
   "execution_count": 38,
   "metadata": {},
   "outputs": [
    {
     "name": "stdout",
     "output_type": "stream",
     "text": [
      "The largest coefficient of list [0.78012854 0.99363996 0.95742196 0.75055996 0.15176901 0.78186039] is at index 1 and has the value 0.9936399639372515\n"
     ]
    }
   ],
   "source": [
    "l = A.flatten()\n",
    "i = np.argmax(l)\n",
    "print(f'The largest coefficient of list {l} is at index {i} and has the value {l[i]}')"
   ]
  },
  {
   "cell_type": "markdown",
   "metadata": {},
   "source": [
    "There are some ready made linear algebra functions:"
   ]
  },
  {
   "cell_type": "code",
   "execution_count": 45,
   "metadata": {},
   "outputs": [
    {
     "name": "stdout",
     "output_type": "stream",
     "text": [
      "10.63014581273465\n",
      "[[10.63014581]]\n"
     ]
    }
   ],
   "source": [
    "print(np.linalg.norm(v))\n",
    "print(np.sqrt(np.dot(v, v.T)))"
   ]
  },
  {
   "cell_type": "markdown",
   "metadata": {},
   "source": [
    "For matrix multiplication I often tend to use the `@` operator:"
   ]
  },
  {
   "cell_type": "code",
   "execution_count": 47,
   "metadata": {},
   "outputs": [
    {
     "name": "stdout",
     "output_type": "stream",
     "text": [
      "[[10.63014581]]\n"
     ]
    }
   ],
   "source": [
    "print(np.sqrt(v @ v.T))"
   ]
  },
  {
   "cell_type": "code",
   "execution_count": 43,
   "metadata": {},
   "outputs": [
    {
     "name": "stdout",
     "output_type": "stream",
     "text": [
      "The result of `v.T @ v` should be a 2x2 matrix:\n",
      "[[49 56]\n",
      " [56 64]]\n",
      "\n",
      "and the one of `v @ v.T` a 1x1 matrix:\n",
      "[[113]]\n"
     ]
    }
   ],
   "source": [
    "print(f'The result of `v.T @ v` should be a {v.T.shape[0]}x{v.shape[1]} matrix:')\n",
    "print(v.T @ v)\n",
    "print(f'\\nand the one of `v @ v.T` a {v.shape[0]}x{v.T.shape[1]} matrix:')\n",
    "print(v @ v.T)"
   ]
  },
  {
   "cell_type": "markdown",
   "metadata": {},
   "source": [
    "Note that the result is a 1x1 matrix. In case needed, as any other tensor, it can be flattened by:"
   ]
  },
  {
   "cell_type": "code",
   "execution_count": 42,
   "metadata": {},
   "outputs": [
    {
     "name": "stdout",
     "output_type": "stream",
     "text": [
      "The value of `v @ v.T`: [[113]]\n",
      "As scalar: 113\n",
      "Flattened: [113]\n"
     ]
    }
   ],
   "source": [
    "r = v @ v.T\n",
    "print(f'The value of `v @ v.T`: {r}')\n",
    "print(f'As scalar: {r.item()}')\n",
    "print(f'Flattened: {r.flatten()}')"
   ]
  },
  {
   "cell_type": "code",
   "execution_count": null,
   "metadata": {},
   "outputs": [],
   "source": []
  }
 ],
 "metadata": {
  "kernelspec": {
   "display_name": "Python 3",
   "language": "python",
   "name": "python3"
  },
  "language_info": {
   "codemirror_mode": {
    "name": "ipython",
    "version": 3
   },
   "file_extension": ".py",
   "mimetype": "text/x-python",
   "name": "python",
   "nbconvert_exporter": "python",
   "pygments_lexer": "ipython3",
   "version": "3.7.10"
  }
 },
 "nbformat": 4,
 "nbformat_minor": 4
}
